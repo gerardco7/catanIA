{
 "cells": [
  {
   "cell_type": "code",
   "execution_count": 5,
   "metadata": {},
   "outputs": [],
   "source": [
    "import numpy as np\n",
    "\n",
    "class CatanEnvironment:\n",
    "    def __init__(self):\n",
    "        # Definir las variables del juego\n",
    "        self.board = np.zeros((5, 5), dtype=int)  # Tablero de juego\n",
    "        self.players = ['Jugador 1', 'Jugador 2', 'Jugador 3', 'Jugador 4']  # Lista de jugadores\n",
    "        self.current_player = 0  # Índice del jugador actual\n",
    "        self.resources = {'madera': 19, 'trigo': 19, 'arcilla': 19, 'lana': 19, 'rocaa': 19}  # Recursos iniciales\n",
    "\n",
    "\n",
    "    def reset(self):\n",
    "        # Reiniciar el tablero y los recursos\n",
    "        self.board = np.zeros((5, 5), dtype=int)\n",
    "        self.resources = {'madera': 19, 'trigo': 19, 'arcilla': 19, 'lana': 19, 'roca': 19}\n",
    "        self.current_player = 0\n",
    "\n",
    "    def get_state(self):\n",
    "        # Devolver el estado actual del juego\n",
    "        return self.board.copy(), self.resources.copy(), self.current_player\n",
    "\n",
    "    def is_valid_move(self, action):\n",
    "        # Verificar si la acción es válida\n",
    "        # Aquí puedes agregar lógica para verificar reglas específicas del juego\n",
    "        return True\n",
    "\n",
    "    def make_move(self, action):\n",
    "        # Realizar la acción en el juego\n",
    "        if self.is_valid_move(action):\n",
    "            # Aquí implementa la lógica para actualizar el tablero y los recursos según la acción\n",
    "            self.current_player = (self.current_player + 1) % len(self.players)\n",
    "        else:\n",
    "            print(\"Movimiento inválido.\")\n",
    "\n",
    "    def is_game_over(self):\n",
    "        # Verificar si el juego ha terminado\n",
    "        # Aquí puedes agregar lógica para determinar las condiciones de finalización del juego\n",
    "        return False"
   ]
  },
  {
   "cell_type": "code",
   "execution_count": 6,
   "metadata": {},
   "outputs": [
    {
     "name": "stdout",
     "output_type": "stream",
     "text": [
      "Estado inicial del juego:\n",
      "(array([[0, 0, 0, 0, 0],\n",
      "       [0, 0, 0, 0, 0],\n",
      "       [0, 0, 0, 0, 0],\n",
      "       [0, 0, 0, 0, 0],\n",
      "       [0, 0, 0, 0, 0]]), {'madera': 19, 'trigo': 19, 'arcilla': 19, 'lana': 19, 'rocaa': 19}, 0)\n",
      "\n",
      "Estado del juego después del movimiento:\n",
      "(array([[0, 0, 0, 0, 0],\n",
      "       [0, 0, 0, 0, 0],\n",
      "       [0, 0, 1, 0, 0],\n",
      "       [0, 0, 0, 0, 0],\n",
      "       [0, 0, 0, 0, 0]]), {'madera': 18, 'trigo': 19, 'arcilla': 19, 'lana': 19, 'rocaa': 19}, 1)\n"
     ]
    }
   ],
   "source": [
    "# Ejemplo de uso:\n",
    "env = CatanEnvironment()\n",
    "state = env.get_state()\n",
    "print(\"Estado inicial del juego:\")\n",
    "print(state)\n",
    "\n",
    "# Realizar un movimiento de ejemplo\n",
    "action = (2, 2)  # Por ejemplo, colocar un asentamiento en la esquina superior izquierda\n",
    "env.make_move(action)\n",
    "\n",
    "# Obtener el nuevo estado del juego después del movimiento\n",
    "state = env.get_state()\n",
    "print(\"\\nEstado del juego después del movimiento:\")\n",
    "print(state)"
   ]
  }
 ],
 "metadata": {
  "kernelspec": {
   "display_name": "Python 3",
   "language": "python",
   "name": "python3"
  },
  "language_info": {
   "codemirror_mode": {
    "name": "ipython",
    "version": 3
   },
   "file_extension": ".py",
   "mimetype": "text/x-python",
   "name": "python",
   "nbconvert_exporter": "python",
   "pygments_lexer": "ipython3",
   "version": "3.10.10"
  }
 },
 "nbformat": 4,
 "nbformat_minor": 2
}
